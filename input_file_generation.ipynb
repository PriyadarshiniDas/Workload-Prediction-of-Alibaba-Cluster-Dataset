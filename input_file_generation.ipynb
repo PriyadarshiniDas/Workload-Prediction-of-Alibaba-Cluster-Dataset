{
 "cells": [
  {
   "cell_type": "markdown",
   "metadata": {},
   "source": [
    "# Input File Generation"
   ]
  },
  {
   "cell_type": "code",
   "execution_count": null,
   "metadata": {},
   "outputs": [],
   "source": [
    "import pandas as pd\n",
    "import matplotlib.pyplot as plt\n",
    "import csv\n",
    "import numpy as np\n"
   ]
  },
  {
   "cell_type": "code",
   "execution_count": null,
   "metadata": {},
   "outputs": [],
   "source": [
    "import time\n",
    "\n",
    "time_start = time.clock()\n",
    "\n",
    "lb=0\n",
    "ub=3\n",
    "total=[]\n",
    "xaxis=[]\n",
    "flag=0\n",
    "df1=pd.read_csv('batch_task.csv')\n",
    "max_val=df1['Normalized_task_create_time_in_minute'].max()\n",
    "i=int(np.round(max_val/3))\n",
    "ren=len(df1)\n",
    "aaa=0\n",
    "aa=0\n",
    "sum=0\n",
    "ii=0\n",
    "for j in range (0,len(df1)):\n",
    "    if(df1['Normalized_task_create_time_in_minute'][j]==0):\n",
    "        sum=aa\n",
    "        aa=df1['number_of_instances'][j]+sum\n",
    "\n",
    "#total.append(aa)\n",
    "\n",
    "        \n",
    "                \n",
    "   \n",
    "\n",
    "for i in range(0,i):\n",
    "    for j in range (0,len(df1)):\n",
    "        if(df1['Normalized_task_create_time_in_minute'][j]>lb and df1['Normalized_task_create_time_in_minute'][j]<=ub):\n",
    "            sum=aa\n",
    "            aa=df1['number_of_instances'][j]+sum\n",
    "    xaxis.append(aaa)\n",
    "    if(aa==0):\n",
    "      aa=1\n",
    "    total.append(aa)\n",
    "    aa=0\n",
    "    aaa=aaa+3\n",
    "                \n",
    "    \n",
    "    lb=ub\n",
    "    ub=ub+3\n",
    "    \n",
    "csvD=[xaxis,total]\n",
    "print(csvD)\n",
    "A=zip(*csvD)\n",
    "print(A)\n",
    "with open('final_input_file.csv', 'w', newline='') as csvFile:\n",
    "    writer = csv.writer(csvFile)\n",
    "    writer.writerows(A)\n",
    "    \n",
    "\n"
   ]
  }
 ],
 "metadata": {
  "kernelspec": {
   "display_name": "Python 3",
   "language": "python",
   "name": "python3"
  },
  "language_info": {
   "codemirror_mode": {
    "name": "ipython",
    "version": 3
   },
   "file_extension": ".py",
   "mimetype": "text/x-python",
   "name": "python",
   "nbconvert_exporter": "python",
   "pygments_lexer": "ipython3",
   "version": "3.6.7"
  }
 },
 "nbformat": 4,
 "nbformat_minor": 2
}
