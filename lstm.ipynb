{
 "cells": [
  {
   "cell_type": "markdown",
   "metadata": {},
   "source": [
    "# LSTM WITHOUT SLIDING WINDOW"
   ]
  },
  {
   "cell_type": "markdown",
   "metadata": {},
   "source": [
    "# Data Pre-processing, Feature Scaling, Building RNN"
   ]
  },
  {
   "cell_type": "raw",
   "metadata": {},
   "source": [
    "# Reference : https://stackoverflow.com/questions/46166816/keras-lstm-is-not-learning"
   ]
  },
  {
   "cell_type": "code",
   "execution_count": null,
   "metadata": {},
   "outputs": [],
   "source": [
    "# Recurrent Neural Network\n",
    "\n",
    "# Part 1 - Data Preprocessing\n",
    "\n",
    "# Importing the libraries\n",
    "import numpy as np\n",
    "import matplotlib.pyplot as plt\n",
    "import pandas as pd\n",
    "\n",
    "# Importing the training set\n",
    "training_set = pd.read_csv('mansi_training.csv')\n",
    "training_set = training_set.iloc[:,1:2].values\n",
    "\n",
    "# Feature Scaling\n",
    "from sklearn.preprocessing import MinMaxScaler\n",
    "sc = MinMaxScaler()\n",
    "training_set = sc.fit_transform(training_set)\n",
    "\n",
    "# Getting the inputs and the ouputs\n",
    "X_train = training_set[0:297]\n",
    "y_train = training_set[0:297]\n",
    "\n",
    "# Reshaping\n",
    "X_train = np.reshape(X_train, (296, 1, 1))\n",
    "\n",
    "\n",
    "\n",
    "# Part 2 - Building the RNN\n",
    "\n",
    "# Importing the Keras libraries and packages\n",
    "from keras.models import Sequential\n",
    "from keras.layers import Dense\n",
    "from keras.layers import LSTM\n",
    "\n",
    "# Initialising the RNN\n",
    "regressor = Sequential()\n",
    "\n",
    "# Adding the input layer and the LSTM layer\n",
    "regressor.add(LSTM(units = 4, activation = 'softmax', input_shape = (None, 1)))\n",
    "\n",
    "# Adding the output layer\n",
    "regressor.add(Dense(units = 1))\n",
    "\n",
    "# Compiling the RNN\n",
    "regressor.compile(optimizer = 'tanh', loss = 'mean_squared_error')\n",
    "\n",
    "# Fitting the RNN to the Training set\n",
    "regressor.fit(X_train, y_train, batch_size = 3, epochs = 300)\n",
    "\n"
   ]
  },
  {
   "cell_type": "markdown",
   "metadata": {},
   "source": [
    "# Making Predictions and Visualizing Results, Calculating RMSE"
   ]
  },
  {
   "cell_type": "code",
   "execution_count": 1,
   "metadata": {},
   "outputs": [
    {
     "ename": "NameError",
     "evalue": "name 'pd' is not defined",
     "output_type": "error",
     "traceback": [
      "\u001b[1;31m---------------------------------------------------------------------------\u001b[0m",
      "\u001b[1;31mNameError\u001b[0m                                 Traceback (most recent call last)",
      "\u001b[1;32m<ipython-input-1-f861a3167fe9>\u001b[0m in \u001b[0;36m<module>\u001b[1;34m\u001b[0m\n\u001b[0;32m     10\u001b[0m \u001b[1;31m#df5=pd.read_csv('mansi_trainin.csv')\u001b[0m\u001b[1;33m\u001b[0m\u001b[1;33m\u001b[0m\u001b[1;33m\u001b[0m\u001b[0m\n\u001b[0;32m     11\u001b[0m \u001b[1;31m#df3=pd.read_csv('.csv')\u001b[0m\u001b[1;33m\u001b[0m\u001b[1;33m\u001b[0m\u001b[1;33m\u001b[0m\u001b[0m\n\u001b[1;32m---> 12\u001b[1;33m \u001b[0mtest_set\u001b[0m \u001b[1;33m=\u001b[0m \u001b[0mpd\u001b[0m\u001b[1;33m.\u001b[0m\u001b[0mread_csv\u001b[0m\u001b[1;33m(\u001b[0m\u001b[1;34m'mansi_testing.csv'\u001b[0m\u001b[1;33m)\u001b[0m\u001b[1;33m\u001b[0m\u001b[1;33m\u001b[0m\u001b[0m\n\u001b[0m\u001b[0;32m     13\u001b[0m \u001b[1;31m#print(test_set[1])\u001b[0m\u001b[1;33m\u001b[0m\u001b[1;33m\u001b[0m\u001b[1;33m\u001b[0m\u001b[0m\n\u001b[0;32m     14\u001b[0m \u001b[0mreal_stock_price\u001b[0m \u001b[1;33m=\u001b[0m \u001b[0mtest_set\u001b[0m\u001b[1;33m.\u001b[0m\u001b[0miloc\u001b[0m\u001b[1;33m[\u001b[0m\u001b[1;33m:\u001b[0m\u001b[1;33m,\u001b[0m\u001b[1;36m1\u001b[0m\u001b[1;33m:\u001b[0m\u001b[1;36m2\u001b[0m\u001b[1;33m]\u001b[0m\u001b[1;33m.\u001b[0m\u001b[0mvalues\u001b[0m\u001b[1;33m\u001b[0m\u001b[1;33m\u001b[0m\u001b[0m\n",
      "\u001b[1;31mNameError\u001b[0m: name 'pd' is not defined"
     ]
    }
   ],
   "source": [
    "import time\n",
    "\n",
    "time_start = time.clock()\n",
    "\n",
    "\n",
    "#2017\n",
    "# Part 3 - Making the predictions and visualising the results\n",
    "\n",
    "# Predicting the number of jobs for future\n",
    "#df5=pd.read_csv('mansi_trainin.csv')\n",
    "#df3=pd.read_csv('.csv')\n",
    "test_set = pd.read_csv('mansi_testing.csv')\n",
    "#print(test_set[1])\n",
    "real_value = test_set.iloc[:,1:2].values\n",
    "\n",
    "\n",
    "# Getting the predicted jobs of previous values\n",
    "inputs = real_value\n",
    "inputs = sc.transform(inputs)\n",
    "inputs = np.reshape(inputs, (42, 1, 1))\n",
    "predicted_job = regressor.predict(inputs)\n",
    "predicted_job = sc.inverse_transform(predicted_job)\n",
    "\n",
    "# Visualising the results\n",
    "fig=plt.figure(figsize=(12,8))\n",
    "plt.title('Workload Prediction')\n",
    "plt.xlabel('Time interval')\n",
    "plt.ylabel('Number of instances')\n",
    "plt.plot(test_set.time,predicted_job,color='red',label='predicted')\n",
    "plt.scatter(df3.time_interval,df3.no_of_instances,color='blue',label='actual')\n",
    "\n",
    "plt.legend()\n",
    "plt.show()\n",
    "\n",
    "\n",
    "\n",
    "import math\n",
    "from sklearn.metrics import mean_squared_error\n",
    "rmse = math.sqrt(mean_squared_error(real_value, predicted_job))\n",
    "print('rmse',rmse)\n",
    "\n",
    "\n",
    "time_elapsed = (time.clock() - time_start)\n",
    "print(time_elapsed)\n",
    "\n"
   ]
  },
  {
   "cell_type": "markdown",
   "metadata": {},
   "source": [
    "# Calculating MAPE"
   ]
  },
  {
   "cell_type": "code",
   "execution_count": null,
   "metadata": {},
   "outputs": [],
   "source": [
    "for i in range(len(real_value)): \n",
    "    obs=real_value[i]\n",
    "    yhat=predicted_job[i]\n",
    "    APE=abs((yhat-obs)/obs)\n",
    "    sumAPE=0\n",
    "    sumAPE=sumAPE+APE\n",
    "MAPE=(sumAPE/(len(real_value)))\n",
    "print(MAPE)"
   ]
  }
 ],
 "metadata": {
  "kernelspec": {
   "display_name": "Python 3",
   "language": "python",
   "name": "python3"
  },
  "language_info": {
   "codemirror_mode": {
    "name": "ipython",
    "version": 3
   },
   "file_extension": ".py",
   "mimetype": "text/x-python",
   "name": "python",
   "nbconvert_exporter": "python",
   "pygments_lexer": "ipython3",
   "version": "3.6.7"
  }
 },
 "nbformat": 4,
 "nbformat_minor": 2
}
