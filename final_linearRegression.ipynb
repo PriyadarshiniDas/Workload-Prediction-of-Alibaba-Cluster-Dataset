{
 "cells": [
  {
   "cell_type": "markdown",
   "metadata": {},
   "source": [
    "# Linear Regression\n"
   ]
  },
  {
   "cell_type": "code",
   "execution_count": null,
   "metadata": {},
   "outputs": [],
   "source": [
    "#Reference : https://www.geeksforgeeks.org/linear-regression-python-implementation/"
   ]
  },
  {
   "cell_type": "code",
   "execution_count": null,
   "metadata": {},
   "outputs": [],
   "source": [
    "plt.title('Workload prediction using Linear Regression')\n",
    "predicted=list()\n",
    "import time\n",
    "time_start = time.clock()\n",
    "def estimate_coef(x, y): \n",
    "\n",
    "    n = np.size(x) \n",
    "  \n",
    "     \n",
    "    m_x, m_y = np.mean(x), np.mean(y) \n",
    "  \n",
    "   \n",
    "    SS_xy = np.sum(y*x - n*m_y*m_x) \n",
    "    SS_xx = np.sum(x*x - n*m_x*m_x) \n",
    "  \n",
    "   \n",
    "    b_1 = SS_xy / SS_xx \n",
    "    b_0 = m_y - b_1*m_x \n",
    "  \n",
    "    return(b_0, b_1) \n",
    "  \n",
    "def plot_regression_line(x, y, b): \n",
    "     \n",
    "    plt.scatter(x, y, color = 'blue', \n",
    "               marker = \"o\", s = 30) \n",
    "  \n",
    "    \n",
    "    y_pred = b[0] + b[1]*x \n",
    "    #print(y_pred,\"this is y_pred\")\n",
    "    predicted.append(y_pred)\n",
    "   \n",
    "    plt.plot(x, y_pred, color = 'red',label='predictor line',linestyle='dashed') \n",
    "    \n",
    "  \n",
    "if __name__ == \"__main__\": \n",
    "    main()\n",
    "  \n",
    "   \n",
    "    \n",
    "    plt.xlabel('Time') \n",
    "    plt.ylabel('Number of Instances') \n",
    "    plt.show() \n",
    "\n",
    "aman=csvD[0]\n",
    "mansi=csvD[1]\n",
    "def main(): \n",
    "    \n",
    "    x = np.array(aman) \n",
    "    y = np.array(mansi) \n",
    "    #print(\"this is y\",y)\n",
    "    \n",
    "    b = estimate_coef(x, y) \n",
    "    print(\"Estimated coefficients:\\nb_0 = {} \\ \\nb_1 = {}\".format(b[0], b[1])) \n",
    "    plot_regression_line(x, y, b) \n",
    "    \n",
    "    \n",
    "time_elapsed = (time.clock() - time_start)\n",
    "print(time_elapsed)\n",
    "\n",
    "test_set = pd.read_csv('person2.csv')\n",
    "real_stock_price = test_set.iloc[:,1:2].values\n",
    "import math\n",
    "from sklearn.metrics import mean_squared_error\n",
    "rmse = math.sqrt(mean_squared_error(real_stock_price, predicted))\n",
    "print('rmse',rmse)"
   ]
  }
 ],
 "metadata": {
  "kernelspec": {
   "display_name": "Python 3",
   "language": "python",
   "name": "python3"
  },
  "language_info": {
   "codemirror_mode": {
    "name": "ipython",
    "version": 3
   },
   "file_extension": ".py",
   "mimetype": "text/x-python",
   "name": "python",
   "nbconvert_exporter": "python",
   "pygments_lexer": "ipython3",
   "version": "3.6.7"
  }
 },
 "nbformat": 4,
 "nbformat_minor": 2
}
